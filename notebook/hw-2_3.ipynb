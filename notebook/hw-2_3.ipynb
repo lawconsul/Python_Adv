{
 "cells": [
  {
   "cell_type": "code",
   "execution_count": 30,
   "metadata": {},
   "outputs": [],
   "source": [
    "import yaml\n",
    "from pprint import pprint"
   ]
  },
  {
   "cell_type": "markdown",
   "metadata": {},
   "source": [
    "__write_order_to_yaml()__"
   ]
  },
  {
   "cell_type": "code",
   "execution_count": 31,
   "metadata": {},
   "outputs": [],
   "source": [
    "def write_order_to_yaml(main_data_name, data):\n",
    "    with open(f'data/{main_data_name}', 'w') as file: \n",
    "        yaml.safe_dump(data, file, default_flow_style = False, allow_unicode = True)"
   ]
  },
  {
   "cell_type": "code",
   "execution_count": 32,
   "metadata": {},
   "outputs": [],
   "source": [
    "def check_yaml(main_data_name, data):\n",
    "    with open(f'data/{main_data_name}', 'r') as file: \n",
    "        f_n_content = yaml.safe_load(file)\n",
    "        print(f_n_content)\n",
    "        if f_n_content == data:\n",
    "            print(\"verification was successful\")\n",
    "        else:\n",
    "            print(\"verification was failed\")"
   ]
  },
  {
   "cell_type": "code",
   "execution_count": 33,
   "metadata": {},
   "outputs": [],
   "source": [
    "main_data_name = \"file.yml\"\n",
    "data = {'turtles': ['leo', 'don', 'raph', 'mike'], 'splinter_age': 55, 'budjet': {'crank': '2000$', 'shreder': '1000$','bi-bob': '10$'}}\n"
   ]
  },
  {
   "cell_type": "code",
   "execution_count": 34,
   "metadata": {},
   "outputs": [],
   "source": [
    "write_order_to_yaml(main_data_name, data)"
   ]
  },
  {
   "cell_type": "code",
   "execution_count": 35,
   "metadata": {},
   "outputs": [
    {
     "name": "stdout",
     "output_type": "stream",
     "text": [
      "{'budjet': {'bi-bob': '10$', 'crank': '2000$', 'shreder': '1000$'}, 'splinter_age': 55, 'turtles': ['leo', 'don', 'raph', 'mike']}\n",
      "verification was successful\n"
     ]
    }
   ],
   "source": [
    "check_yaml(main_data_name, data)"
   ]
  },
  {
   "cell_type": "code",
   "execution_count": null,
   "metadata": {},
   "outputs": [],
   "source": []
  }
 ],
 "metadata": {
  "kernelspec": {
   "display_name": "Python 3",
   "language": "python",
   "name": "python3"
  },
  "language_info": {
   "codemirror_mode": {
    "name": "ipython",
    "version": 3
   },
   "file_extension": ".py",
   "mimetype": "text/x-python",
   "name": "python",
   "nbconvert_exporter": "python",
   "pygments_lexer": "ipython3",
   "version": "3.7.3"
  }
 },
 "nbformat": 4,
 "nbformat_minor": 2
}
