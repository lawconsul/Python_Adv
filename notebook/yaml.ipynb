{
 "cells": [
  {
   "cell_type": "code",
   "execution_count": 3,
   "metadata": {},
   "outputs": [],
   "source": [
    "import yaml\n",
    "from pprint import pprint"
   ]
  },
  {
   "cell_type": "code",
   "execution_count": null,
   "metadata": {},
   "outputs": [],
   "source": [
    "'''\n",
    "attr1: 'value1'\n",
    "attr2: 'value2'\n",
    "attr3: 'value3'\n",
    "attr4:\n",
    "    - 'value1'\n",
    "    - 'value2'\n",
    "    - 'value3'\n",
    "'''"
   ]
  },
  {
   "cell_type": "code",
   "execution_count": 5,
   "metadata": {},
   "outputs": [
    {
     "name": "stdout",
     "output_type": "stream",
     "text": [
      "{'attr1': 'value1',\n",
      " 'attr2': 'value2',\n",
      " 'attr3': 'value3',\n",
      " 'attr4': ['value1', 'value2', 'value3']}\n"
     ]
    }
   ],
   "source": [
    "with open('data/read.yml') as file:\n",
    "    pprint(yaml.safe_load(file))"
   ]
  },
  {
   "cell_type": "code",
   "execution_count": 6,
   "metadata": {},
   "outputs": [],
   "source": [
    "data = {\n",
    "    'attr1': 'value1',\n",
    "    'attr2': 'value2',\n",
    "    'attr3': 'value3',\n",
    "    'attr4': ['value1', 'value2', 'value3']\n",
    "}\n",
    "\n",
    "with open('data/write.yml', 'w') as file:\n",
    "    yaml.safe_dump(data, file)"
   ]
  }
 ],
 "metadata": {
  "kernelspec": {
   "display_name": "Python 3",
   "language": "python",
   "name": "python3"
  },
  "language_info": {
   "codemirror_mode": {
    "name": "ipython",
    "version": 3
   },
   "file_extension": ".py",
   "mimetype": "text/x-python",
   "name": "python",
   "nbconvert_exporter": "python",
   "pygments_lexer": "ipython3",
   "version": "3.7.2"
  }
 },
 "nbformat": 4,
 "nbformat_minor": 2
}
