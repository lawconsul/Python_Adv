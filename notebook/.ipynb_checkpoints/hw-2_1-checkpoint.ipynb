{
 "cells": [
  {
   "cell_type": "code",
   "execution_count": 145,
   "metadata": {},
   "outputs": [],
   "source": [
    "import os\n",
    "import re"
   ]
  },
  {
   "cell_type": "markdown",
   "metadata": {},
   "source": [
    "__get_data__"
   ]
  },
  {
   "cell_type": "code",
   "execution_count": 146,
   "metadata": {},
   "outputs": [],
   "source": [
    "def get_data(main_data_name, comma_sep, os_prod_list, os_name_list, os_code_list, os_type_list):\n",
    "    main_data = ['Изготовитель системы', 'Название ОС', 'Код продукта', 'Тип системы']\n",
    "    main_data_names = ['os_prod_list', 'os_name_list', 'os_code_list', 'os_type_list']\n",
    "    info_txt_names = []\n",
    "\n",
    "    for file in os.listdir(\"data\"):\n",
    "        if file.startswith(\"info\") and file.endswith(\".txt\"):\n",
    "            info_txt_names.append(file)\n",
    "\n",
    "    for file_name in info_txt_names:\n",
    "        with open(f'data/{file_name}', encoding='windows-1251') as file:\n",
    "            for row in file:\n",
    "                for prty in main_data:\n",
    "                    match = re.search(prty, row)\n",
    "                    if match:\n",
    "                        value = re.sub(\"^:|\\s*&\\w*\", '', row[match.end():]).strip()\n",
    "                        key = row[:match.end()]\n",
    "\n",
    "                        if key == main_data[0]:\n",
    "                            os_prod_list.append(value)\n",
    "                        elif key == main_data[1]:\n",
    "                            os_name_list.append(value)\n",
    "                        elif key == main_data[2]:\n",
    "                            os_code_list.append(value)\n",
    "                        elif key == main_data[3]:\n",
    "                            os_type_list.append(value)   \n",
    "                    else:\n",
    "                            pass\n",
    "\n",
    "    with open(f'data/{main_data_name}','a') as file:\n",
    "        file.write(f'{comma_sep.join(main_data)}\\n')\n",
    "        file.close()"
   ]
  },
  {
   "cell_type": "code",
   "execution_count": null,
   "metadata": {},
   "outputs": [],
   "source": []
  },
  {
   "cell_type": "markdown",
   "metadata": {},
   "source": [
    "__write2csv__"
   ]
  },
  {
   "cell_type": "code",
   "execution_count": 147,
   "metadata": {},
   "outputs": [],
   "source": [
    "def write_to_csv(main_data_name, comma_sep, os_prod_list, os_name_list, os_code_list, os_type_list):\n",
    "    i = 0\n",
    "    main_data_values = ''\n",
    "    while i < len(os_prod_list):\n",
    "        main_data_values += '{1}{0}{2}{0}{3}{0}{4}\\n'.format(comma_sep, os_prod_list[i], os_name_list[i], os_code_list[i], os_type_list[i])\n",
    "        i += 1\n",
    "    \n",
    "    with open(f'data/{main_data_name}','a') as file:\n",
    "        file.writelines(main_data_values)\n",
    "        file.close()  "
   ]
  },
  {
   "cell_type": "code",
   "execution_count": null,
   "metadata": {},
   "outputs": [],
   "source": []
  },
  {
   "cell_type": "code",
   "execution_count": 148,
   "metadata": {},
   "outputs": [],
   "source": [
    "main_data_name = \"main_data.csv\"\n",
    "comma_sep = \"\\t\"\n",
    "os_prod_list, os_name_list, os_code_list, os_type_list = [],[],[],[]"
   ]
  },
  {
   "cell_type": "code",
   "execution_count": 149,
   "metadata": {},
   "outputs": [],
   "source": [
    "get_data(main_data_name, comma_sep, os_prod_list, os_name_list, os_code_list, os_type_list)"
   ]
  },
  {
   "cell_type": "code",
   "execution_count": 150,
   "metadata": {},
   "outputs": [],
   "source": [
    "write_to_csv(main_data_name, comma_sep, os_prod_list, os_name_list, os_code_list, os_type_list)"
   ]
  },
  {
   "cell_type": "code",
   "execution_count": null,
   "metadata": {},
   "outputs": [],
   "source": []
  },
  {
   "cell_type": "code",
   "execution_count": null,
   "metadata": {},
   "outputs": [],
   "source": []
  }
 ],
 "metadata": {
  "kernelspec": {
   "display_name": "Python 3",
   "language": "python",
   "name": "python3"
  },
  "language_info": {
   "codemirror_mode": {
    "name": "ipython",
    "version": 3
   },
   "file_extension": ".py",
   "mimetype": "text/x-python",
   "name": "python",
   "nbconvert_exporter": "python",
   "pygments_lexer": "ipython3",
   "version": "3.7.3"
  }
 },
 "nbformat": 4,
 "nbformat_minor": 2
}
