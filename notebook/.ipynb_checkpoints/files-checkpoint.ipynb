{
 "cells": [
  {
   "cell_type": "code",
   "execution_count": null,
   "metadata": {},
   "outputs": [],
   "source": []
  },
  {
   "cell_type": "code",
   "execution_count": 20,
   "metadata": {},
   "outputs": [
    {
     "name": "stdout",
     "output_type": "stream",
     "text": [
      "test file1\n",
      "\n",
      "test file2\n",
      "\n"
     ]
    }
   ],
   "source": [
    "file = open('data/read.txt')\n",
    "print(file.readline())\n",
    "print(file.readline())\n",
    "file.close()"
   ]
  },
  {
   "cell_type": "code",
   "execution_count": 21,
   "metadata": {},
   "outputs": [
    {
     "name": "stdout",
     "output_type": "stream",
     "text": [
      "['test file1\\n', 'test file2\\n']\n",
      "['test file3\\n', '\\n', 'test file21\\n', 'test file22\\n']\n",
      "['test file23\\n', '\\n', 'test file31\\n', 'test file32\\n', 'test file33']\n"
     ]
    }
   ],
   "source": [
    "file = open('data/read.txt')\n",
    "print(file.readlines(16))\n",
    "print(file.readlines(32))\n",
    "print(file.readlines(64))\n",
    "file.close()"
   ]
  },
  {
   "cell_type": "code",
   "execution_count": null,
   "metadata": {},
   "outputs": [],
   "source": []
  },
  {
   "cell_type": "code",
   "execution_count": 22,
   "metadata": {},
   "outputs": [
    {
     "name": "stdout",
     "output_type": "stream",
     "text": [
      "test file1\n",
      "test file2\n",
      "test file3\n",
      "\n",
      "test file21\n",
      "test file22\n",
      "test file23\n",
      "\n",
      "test file31\n",
      "test file32\n",
      "test file33\n"
     ]
    }
   ],
   "source": [
    "file = open('data/read.txt')\n",
    "print(file.read())\n",
    "file.close()"
   ]
  },
  {
   "cell_type": "code",
   "execution_count": 23,
   "metadata": {},
   "outputs": [
    {
     "name": "stdout",
     "output_type": "stream",
     "text": [
      "test file1\n",
      "\n",
      "test file2\n",
      "\n",
      "test file3\n",
      "\n",
      "\n",
      "\n",
      "test file21\n",
      "\n",
      "test file22\n",
      "\n",
      "test file23\n",
      "\n",
      "\n",
      "\n",
      "test file31\n",
      "\n",
      "test file32\n",
      "\n",
      "test file33\n"
     ]
    }
   ],
   "source": [
    "with open('data/read.txt') as file:\n",
    "    for row in file:\n",
    "        print(row)\n",
    "\n",
    "#     file.close()"
   ]
  },
  {
   "cell_type": "code",
   "execution_count": 34,
   "metadata": {},
   "outputs": [],
   "source": [
    "with open('data/write.txt','w') as file:\n",
    "    file.write(\"SOme data\")"
   ]
  },
  {
   "cell_type": "code",
   "execution_count": 35,
   "metadata": {},
   "outputs": [],
   "source": [
    "with open('data/write.txt','a') as file:\n",
    "    file.write(\"\\nSome data add\\n\")"
   ]
  },
  {
   "cell_type": "code",
   "execution_count": 36,
   "metadata": {},
   "outputs": [],
   "source": [
    "with open('data/write.txt','a') as file:\n",
    "    file.writelines(['\\nstring1','\\nstring2','\\nstring3'])"
   ]
  },
  {
   "cell_type": "code",
   "execution_count": 43,
   "metadata": {},
   "outputs": [],
   "source": [
    "with open('data/write.txt','ab') as file:\n",
    "     file.write(b\"\\nSome data add 3\\n\")"
   ]
  },
  {
   "cell_type": "code",
   "execution_count": null,
   "metadata": {},
   "outputs": [],
   "source": []
  },
  {
   "cell_type": "code",
   "execution_count": 40,
   "metadata": {},
   "outputs": [
    {
     "name": "stdout",
     "output_type": "stream",
     "text": [
      "b'test file1\\n'\n",
      "b'test file2\\n'\n",
      "b'test file3\\n'\n",
      "b'\\n'\n",
      "b'test file21\\n'\n",
      "b'test file22\\n'\n",
      "b'test file23\\n'\n",
      "b'\\n'\n",
      "b'test file31\\n'\n",
      "b'test file32\\n'\n",
      "b'test file33'\n"
     ]
    }
   ],
   "source": [
    "with open('data/read.txt', 'rb') as file:\n",
    "    for row in file:\n",
    "        print(row)"
   ]
  },
  {
   "cell_type": "code",
   "execution_count": 44,
   "metadata": {},
   "outputs": [
    {
     "name": "stdout",
     "output_type": "stream",
     "text": [
      "test file1\n",
      "\n",
      "test file2\n",
      "\n",
      "test file3\n",
      "\n",
      "\n",
      "\n",
      "test file21\n",
      "\n",
      "test file22\n",
      "\n",
      "test file23\n",
      "\n",
      "\n",
      "\n",
      "test file31\n",
      "\n",
      "test file32\n",
      "\n",
      "test file33\n"
     ]
    }
   ],
   "source": [
    " with open('data/read.txt', encoding='utf-8') as file:\n",
    "    for row in file:\n",
    "        print(row)"
   ]
  },
  {
   "cell_type": "code",
   "execution_count": 49,
   "metadata": {},
   "outputs": [
    {
     "name": "stdout",
     "output_type": "stream",
     "text": [
      "SOme data\n",
      "Some data add\n",
      "\n",
      "Ome data\n",
      "Some data add\n",
      "\n",
      "string1\n",
      "string2\n",
      "string3\n"
     ]
    }
   ],
   "source": [
    "with open('data/write.txt', 'r+') as file:\n",
    "    print(file.read())\n",
    "    file.writelines(['\\nstring1','\\nstring2','\\nstring3'])\n",
    "    file.seek(1)\n",
    "    print(file.read())"
   ]
  },
  {
   "cell_type": "code",
   "execution_count": null,
   "metadata": {},
   "outputs": [],
   "source": []
  },
  {
   "cell_type": "markdown",
   "metadata": {},
   "source": [
    "__CSV__"
   ]
  },
  {
   "cell_type": "markdown",
   "metadata": {},
   "source": [
    "__JSON__"
   ]
  },
  {
   "cell_type": "markdown",
   "metadata": {},
   "source": [
    "__YAML__"
   ]
  },
  {
   "cell_type": "code",
   "execution_count": null,
   "metadata": {},
   "outputs": [],
   "source": []
  }
 ],
 "metadata": {
  "kernelspec": {
   "display_name": "Python 3",
   "language": "python",
   "name": "python3"
  },
  "language_info": {
   "codemirror_mode": {
    "name": "ipython",
    "version": 3
   },
   "file_extension": ".py",
   "mimetype": "text/x-python",
   "name": "python",
   "nbconvert_exporter": "python",
   "pygments_lexer": "ipython3",
   "version": "3.7.3"
  }
 },
 "nbformat": 4,
 "nbformat_minor": 2
}
