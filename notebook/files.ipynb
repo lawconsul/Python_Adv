{
 "cells": [
  {
   "cell_type": "code",
   "execution_count": 4,
   "metadata": {},
   "outputs": [
    {
     "name": "stdout",
     "output_type": "stream",
     "text": [
      "Hello world!\n",
      "\n",
      "Some data\n",
      "\n",
      "Simple string\n"
     ]
    }
   ],
   "source": [
    "file = open('data/read.txt')\n",
    "\n",
    "print(file.readline())\n",
    "print(file.readline())\n",
    "print(file.readline())\n",
    "\n",
    "file.close()"
   ]
  },
  {
   "cell_type": "code",
   "execution_count": 6,
   "metadata": {},
   "outputs": [
    {
     "name": "stdout",
     "output_type": "stream",
     "text": [
      "['Hello world!\\n', 'Some data\\n']\n",
      "['Simple string\\n', 'Flat text\\n', 'Beep boop beer\\n']\n",
      "['\\n', 'Hello world!\\n', 'Some data\\n', 'Simple string\\n', 'Flat text\\n', 'Beep boop beer']\n"
     ]
    }
   ],
   "source": [
    "file = open('data/read.txt')\n",
    "\n",
    "print(file.readlines(16))\n",
    "print(file.readlines(32))\n",
    "print(file.readlines(64))\n",
    "\n",
    "file.close()"
   ]
  },
  {
   "cell_type": "code",
   "execution_count": 7,
   "metadata": {},
   "outputs": [
    {
     "name": "stdout",
     "output_type": "stream",
     "text": [
      "Hello world!\n",
      "Some data\n",
      "Simple string\n",
      "Flat text\n",
      "Beep boop beer\n",
      "\n",
      "Hello world!\n",
      "Some data\n",
      "Simple string\n",
      "Flat text\n",
      "Beep boop beer\n"
     ]
    }
   ],
   "source": [
    "file = open('data/read.txt')\n",
    "\n",
    "print(file.read())\n",
    "\n",
    "file.close()"
   ]
  },
  {
   "cell_type": "code",
   "execution_count": 8,
   "metadata": {},
   "outputs": [
    {
     "name": "stdout",
     "output_type": "stream",
     "text": [
      "Hello world!\n",
      "\n",
      "Some data\n",
      "\n",
      "Simple string\n",
      "\n",
      "Flat text\n",
      "\n",
      "Beep boop beer\n",
      "\n",
      "\n",
      "\n",
      "Hello world!\n",
      "\n",
      "Some data\n",
      "\n",
      "Simple string\n",
      "\n",
      "Flat text\n",
      "\n",
      "Beep boop beer\n"
     ]
    }
   ],
   "source": [
    "with open('data/read.txt') as file:\n",
    "    for row in file:\n",
    "        print(row)"
   ]
  },
  {
   "cell_type": "code",
   "execution_count": 10,
   "metadata": {},
   "outputs": [
    {
     "name": "stdout",
     "output_type": "stream",
     "text": [
      "Hello world!\n",
      "Some data\n",
      "Simple string\n",
      "Flat text\n",
      "Beep boop beer\n",
      "\n",
      "Hello world!\n",
      "Some data\n",
      "Simple string\n",
      "Flat text\n",
      "Beep boop beer\n"
     ]
    }
   ],
   "source": [
    "with open('data/read.txt', 'r') as file:\n",
    "    print(file.read())"
   ]
  },
  {
   "cell_type": "code",
   "execution_count": 11,
   "metadata": {},
   "outputs": [
    {
     "ename": "UnsupportedOperation",
     "evalue": "not writable",
     "output_type": "error",
     "traceback": [
      "\u001b[0;31m---------------------------------------------------------------------------\u001b[0m",
      "\u001b[0;31mUnsupportedOperation\u001b[0m                      Traceback (most recent call last)",
      "\u001b[0;32m<ipython-input-11-990812f40e4f>\u001b[0m in \u001b[0;36m<module>\u001b[0;34m\u001b[0m\n\u001b[1;32m      1\u001b[0m \u001b[0;32mwith\u001b[0m \u001b[0mopen\u001b[0m\u001b[0;34m(\u001b[0m\u001b[0;34m'data/read.txt'\u001b[0m\u001b[0;34m,\u001b[0m \u001b[0;34m'r'\u001b[0m\u001b[0;34m)\u001b[0m \u001b[0;32mas\u001b[0m \u001b[0mfile\u001b[0m\u001b[0;34m:\u001b[0m\u001b[0;34m\u001b[0m\u001b[0;34m\u001b[0m\u001b[0m\n\u001b[0;32m----> 2\u001b[0;31m     \u001b[0mprint\u001b[0m\u001b[0;34m(\u001b[0m\u001b[0mfile\u001b[0m\u001b[0;34m.\u001b[0m\u001b[0mwrite\u001b[0m\u001b[0;34m(\u001b[0m\u001b[0;34m'Some data'\u001b[0m\u001b[0;34m)\u001b[0m\u001b[0;34m)\u001b[0m\u001b[0;34m\u001b[0m\u001b[0;34m\u001b[0m\u001b[0m\n\u001b[0m",
      "\u001b[0;31mUnsupportedOperation\u001b[0m: not writable"
     ]
    }
   ],
   "source": [
    "with open('data/read.txt', 'r') as file:\n",
    "    print(file.write('Some data'))"
   ]
  },
  {
   "cell_type": "code",
   "execution_count": 14,
   "metadata": {},
   "outputs": [],
   "source": [
    "with open('data/write.txt', 'w') as file:\n",
    "    file.write('Some data')"
   ]
  },
  {
   "cell_type": "code",
   "execution_count": 15,
   "metadata": {},
   "outputs": [],
   "source": [
    "with open('data/write.txt', 'a') as file:\n",
    "    file.write('\\nHello world!\\n')"
   ]
  },
  {
   "cell_type": "code",
   "execution_count": 17,
   "metadata": {},
   "outputs": [],
   "source": [
    "with open('data/write.txt', 'a') as file:\n",
    "    file.writelines(['\\nsome atnother text', '\\nflat text'])"
   ]
  },
  {
   "cell_type": "code",
   "execution_count": 18,
   "metadata": {},
   "outputs": [
    {
     "name": "stdout",
     "output_type": "stream",
     "text": [
      "b'Hello world!\\nSome data\\nSimple string\\nFlat text\\nBeep boop beer\\n\\nHello world!\\nSome data\\nSimple string\\nFlat text\\nBeep boop beer'\n"
     ]
    }
   ],
   "source": [
    "with open('data/read.txt', 'rb') as file:\n",
    "    print(file.read())"
   ]
  },
  {
   "cell_type": "code",
   "execution_count": 21,
   "metadata": {},
   "outputs": [],
   "source": [
    "with open('data/write.txt', 'ab') as file:\n",
    "    file.write(b'\\nByte data')"
   ]
  },
  {
   "cell_type": "code",
   "execution_count": 23,
   "metadata": {},
   "outputs": [
    {
     "name": "stdout",
     "output_type": "stream",
     "text": [
      "Hello world!\n",
      "Some data\n",
      "Simple string\n",
      "Flat text\n",
      "Beep boop beer\n",
      "\n",
      "Hello world!\n",
      "Some data\n",
      "Simple string\n",
      "Flat text\n",
      "Beep boop beer\n"
     ]
    }
   ],
   "source": [
    "with open('data/read.txt', encoding='utf-8') as file:\n",
    "    print(file.read())"
   ]
  },
  {
   "cell_type": "code",
   "execution_count": 24,
   "metadata": {},
   "outputs": [
    {
     "name": "stdout",
     "output_type": "stream",
     "text": [
      "\n",
      "Byte data\n",
      "Byte data\n",
      "\n",
      "Byte data\n",
      "Byte data\n",
      "some atnother text\n",
      "flat text\n"
     ]
    }
   ],
   "source": [
    "with open('data/write.txt', 'r+') as file:\n",
    "    print(file.read())\n",
    "    file.writelines(['\\nsome atnother text', '\\nflat text'])\n",
    "    file.seek(0)\n",
    "    print(file.read())"
   ]
  }
 ],
 "metadata": {
  "kernelspec": {
   "display_name": "Python 3",
   "language": "python",
   "name": "python3"
  },
  "language_info": {
   "codemirror_mode": {
    "name": "ipython",
    "version": 3
   },
   "file_extension": ".py",
   "mimetype": "text/x-python",
   "name": "python",
   "nbconvert_exporter": "python",
   "pygments_lexer": "ipython3",
   "version": "3.7.2"
  }
 },
 "nbformat": 4,
 "nbformat_minor": 2
}
