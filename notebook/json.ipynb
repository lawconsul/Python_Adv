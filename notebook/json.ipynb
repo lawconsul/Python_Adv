{
 "cells": [
  {
   "cell_type": "code",
   "execution_count": 4,
   "metadata": {},
   "outputs": [],
   "source": [
    "import json\n",
    "from pprint import pprint"
   ]
  },
  {
   "cell_type": "code",
   "execution_count": null,
   "metadata": {},
   "outputs": [],
   "source": [
    "'''\n",
    "[\n",
    "    {\"header\":\"data1\", \"header2\":\"data2\", \"header3\":\"data3\", \"header4\":\"data4\"},\n",
    "    {\"header\":\"data1\", \"header2\":\"data2\", \"header3\":\"data3\", \"header4\":\"data4\"},\n",
    "    {\"header\":\"data1\", \"header2\":\"data2\", \"header3\":\"data3\", \"header4\":\"data4\"},\n",
    "    {\"header\":\"data1\", \"header2\":\"data2\", \"header3\":\"data3\", \"header4\":\"data4\"},\n",
    "    {\"header\":\"data1\", \"header2\":\"data2\", \"header3\":\"data3\", \"header4\":\"data4\"}\n",
    "]\n",
    "'''"
   ]
  },
  {
   "cell_type": "code",
   "execution_count": 5,
   "metadata": {},
   "outputs": [
    {
     "name": "stdout",
     "output_type": "stream",
     "text": [
      "[{'header': 'data1',\n",
      "  'header2': 'data2',\n",
      "  'header3': 'data3',\n",
      "  'header4': 'data4'},\n",
      " {'header': 'data1',\n",
      "  'header2': 'data2',\n",
      "  'header3': 'data3',\n",
      "  'header4': 'data4'},\n",
      " {'header': 'data1',\n",
      "  'header2': 'data2',\n",
      "  'header3': 'data3',\n",
      "  'header4': 'data4'},\n",
      " {'header': 'data1',\n",
      "  'header2': 'data2',\n",
      "  'header3': 'data3',\n",
      "  'header4': 'data4'},\n",
      " {'header': 'data1',\n",
      "  'header2': 'data2',\n",
      "  'header3': 'data3',\n",
      "  'header4': 'data4'}]\n"
     ]
    }
   ],
   "source": [
    "with open('data/read.json') as file:\n",
    "    pprint(json.load(file))"
   ]
  },
  {
   "cell_type": "code",
   "execution_count": 7,
   "metadata": {},
   "outputs": [
    {
     "name": "stdout",
     "output_type": "stream",
     "text": [
      "[{'header': 'data1',\n",
      "  'header2': 'data2',\n",
      "  'header3': 'data3',\n",
      "  'header4': 'data4'},\n",
      " {'header': 'data1',\n",
      "  'header2': 'data2',\n",
      "  'header3': 'data3',\n",
      "  'header4': 'data4'},\n",
      " {'header': 'data1',\n",
      "  'header2': 'data2',\n",
      "  'header3': 'data3',\n",
      "  'header4': 'data4'},\n",
      " {'header': 'data1',\n",
      "  'header2': 'data2',\n",
      "  'header3': 'data3',\n",
      "  'header4': 'data4'},\n",
      " {'header': 'data1',\n",
      "  'header2': 'data2',\n",
      "  'header3': 'data3',\n",
      "  'header4': 'data4'}]\n"
     ]
    }
   ],
   "source": [
    "data = '''\n",
    "[\n",
    "    {\"header\":\"data1\", \"header2\":\"data2\", \"header3\":\"data3\", \"header4\":\"data4\"},\n",
    "    {\"header\":\"data1\", \"header2\":\"data2\", \"header3\":\"data3\", \"header4\":\"data4\"},\n",
    "    {\"header\":\"data1\", \"header2\":\"data2\", \"header3\":\"data3\", \"header4\":\"data4\"},\n",
    "    {\"header\":\"data1\", \"header2\":\"data2\", \"header3\":\"data3\", \"header4\":\"data4\"},\n",
    "    {\"header\":\"data1\", \"header2\":\"data2\", \"header3\":\"data3\", \"header4\":\"data4\"}\n",
    "]\n",
    "'''\n",
    "\n",
    "pprint(json.loads(data))"
   ]
  },
  {
   "cell_type": "code",
   "execution_count": 9,
   "metadata": {},
   "outputs": [
    {
     "name": "stdout",
     "output_type": "stream",
     "text": [
      "[{\"header\": \"data1\", \"header2\": \"data2\", \"header3\": \"data3\", \"header4\": \"data4\"}, {\"header\": \"data1\", \"header2\": \"data2\", \"header3\": \"data3\", \"header4\": \"data4\"}, {\"header\": \"data1\", \"header2\": \"data2\", \"header3\": \"data3\", \"header4\": \"data4\"}, {\"header\": \"data1\", \"header2\": \"data2\", \"header3\": \"data3\", \"header4\": \"data4\"}, {\"header\": \"data1\", \"header2\": \"data2\", \"header3\": \"data3\", \"header4\": \"data4\"}]\n"
     ]
    }
   ],
   "source": [
    "data = [\n",
    "    {'header': 'data1', 'header2': 'data2', 'header3': 'data3', 'header4': 'data4'},\n",
    "    {'header': 'data1', 'header2': 'data2', 'header3': 'data3', 'header4': 'data4'},\n",
    "    {'header': 'data1', 'header2': 'data2', 'header3': 'data3', 'header4': 'data4'},\n",
    "    {'header': 'data1', 'header2': 'data2', 'header3': 'data3', 'header4': 'data4'},\n",
    "    {'header': 'data1', 'header2': 'data2', 'header3': 'data3', 'header4': 'data4'},\n",
    "]\n",
    "\n",
    "print(json.dumps(data))"
   ]
  },
  {
   "cell_type": "code",
   "execution_count": 12,
   "metadata": {},
   "outputs": [],
   "source": [
    "data = [\n",
    "    {'header': 'data1', 'header2': 'data2', 'header3': 'data3', 'header4': 'data4'},\n",
    "    {'header': 'data1', 'header2': 'data2', 'header3': 'data3', 'header4': 'data4'},\n",
    "    {'header': 'data1', 'header2': 'data2', 'header3': 'data3', 'header4': 'data4'},\n",
    "    {'header': 'data1', 'header2': 'data2', 'header3': 'data3', 'header4': 'data4'},\n",
    "    {'header': 'data1', 'header2': 'data2', 'header3': 'data3', 'header4': 'data4'},\n",
    "]\n",
    "\n",
    "with open('data/write.json', 'w') as file:\n",
    "    json.dump(data, file, indent=4)"
   ]
  }
 ],
 "metadata": {
  "kernelspec": {
   "display_name": "Python 3",
   "language": "python",
   "name": "python3"
  },
  "language_info": {
   "codemirror_mode": {
    "name": "ipython",
    "version": 3
   },
   "file_extension": ".py",
   "mimetype": "text/x-python",
   "name": "python",
   "nbconvert_exporter": "python",
   "pygments_lexer": "ipython3",
   "version": "3.7.2"
  }
 },
 "nbformat": 4,
 "nbformat_minor": 2
}
